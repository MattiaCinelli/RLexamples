{
 "cells": [
  {
   "cell_type": "markdown",
   "metadata": {},
   "source": [
    "# Set up"
   ]
  },
  {
   "cell_type": "code",
   "execution_count": 18,
   "metadata": {},
   "outputs": [
    {
     "name": "stdout",
     "output_type": "stream",
     "text": [
      "Requirement already satisfied: tensorflow==2.3.1 in /Users/mattiacinelli/repositories/AlgoRL/.valgorl/lib/python3.8/site-packages (2.3.1)\n",
      "Requirement already satisfied: keras-preprocessing<1.2,>=1.1.1 in /Users/mattiacinelli/repositories/AlgoRL/.valgorl/lib/python3.8/site-packages (from tensorflow==2.3.1) (1.1.2)\n",
      "Requirement already satisfied: numpy<1.19.0,>=1.16.0 in /Users/mattiacinelli/repositories/AlgoRL/.valgorl/lib/python3.8/site-packages (from tensorflow==2.3.1) (1.18.5)\n",
      "Requirement already satisfied: tensorflow-estimator<2.4.0,>=2.3.0 in /Users/mattiacinelli/repositories/AlgoRL/.valgorl/lib/python3.8/site-packages (from tensorflow==2.3.1) (2.3.0)\n",
      "Requirement already satisfied: six>=1.12.0 in /Users/mattiacinelli/repositories/AlgoRL/.valgorl/lib/python3.8/site-packages (from tensorflow==2.3.1) (1.16.0)\n",
      "Requirement already satisfied: termcolor>=1.1.0 in /Users/mattiacinelli/repositories/AlgoRL/.valgorl/lib/python3.8/site-packages (from tensorflow==2.3.1) (1.1.0)\n",
      "Requirement already satisfied: absl-py>=0.7.0 in /Users/mattiacinelli/repositories/AlgoRL/.valgorl/lib/python3.8/site-packages (from tensorflow==2.3.1) (1.0.0)\n",
      "Requirement already satisfied: astunparse==1.6.3 in /Users/mattiacinelli/repositories/AlgoRL/.valgorl/lib/python3.8/site-packages (from tensorflow==2.3.1) (1.6.3)\n",
      "Requirement already satisfied: google-pasta>=0.1.8 in /Users/mattiacinelli/repositories/AlgoRL/.valgorl/lib/python3.8/site-packages (from tensorflow==2.3.1) (0.2.0)\n",
      "Requirement already satisfied: opt-einsum>=2.3.2 in /Users/mattiacinelli/repositories/AlgoRL/.valgorl/lib/python3.8/site-packages (from tensorflow==2.3.1) (3.3.0)\n",
      "Requirement already satisfied: wrapt>=1.11.1 in /Users/mattiacinelli/repositories/AlgoRL/.valgorl/lib/python3.8/site-packages (from tensorflow==2.3.1) (1.13.3)\n",
      "Requirement already satisfied: grpcio>=1.8.6 in /Users/mattiacinelli/repositories/AlgoRL/.valgorl/lib/python3.8/site-packages (from tensorflow==2.3.1) (1.44.0)\n",
      "Requirement already satisfied: h5py<2.11.0,>=2.10.0 in /Users/mattiacinelli/repositories/AlgoRL/.valgorl/lib/python3.8/site-packages (from tensorflow==2.3.1) (2.10.0)\n",
      "Requirement already satisfied: wheel>=0.26 in /Users/mattiacinelli/repositories/AlgoRL/.valgorl/lib/python3.8/site-packages (from tensorflow==2.3.1) (0.37.1)\n",
      "Requirement already satisfied: protobuf>=3.9.2 in /Users/mattiacinelli/repositories/AlgoRL/.valgorl/lib/python3.8/site-packages (from tensorflow==2.3.1) (3.19.4)\n",
      "Requirement already satisfied: gast==0.3.3 in /Users/mattiacinelli/repositories/AlgoRL/.valgorl/lib/python3.8/site-packages (from tensorflow==2.3.1) (0.3.3)\n",
      "Requirement already satisfied: tensorboard<3,>=2.3.0 in /Users/mattiacinelli/repositories/AlgoRL/.valgorl/lib/python3.8/site-packages (from tensorflow==2.3.1) (2.8.0)\n",
      "Requirement already satisfied: google-auth<3,>=1.6.3 in /Users/mattiacinelli/repositories/AlgoRL/.valgorl/lib/python3.8/site-packages (from tensorboard<3,>=2.3.0->tensorflow==2.3.1) (2.6.0)\n",
      "Requirement already satisfied: setuptools>=41.0.0 in /Users/mattiacinelli/repositories/AlgoRL/.valgorl/lib/python3.8/site-packages (from tensorboard<3,>=2.3.0->tensorflow==2.3.1) (41.2.0)\n",
      "Requirement already satisfied: requests<3,>=2.21.0 in /Users/mattiacinelli/repositories/AlgoRL/.valgorl/lib/python3.8/site-packages (from tensorboard<3,>=2.3.0->tensorflow==2.3.1) (2.27.1)\n",
      "Requirement already satisfied: markdown>=2.6.8 in /Users/mattiacinelli/repositories/AlgoRL/.valgorl/lib/python3.8/site-packages (from tensorboard<3,>=2.3.0->tensorflow==2.3.1) (3.3.6)\n",
      "Requirement already satisfied: tensorboard-plugin-wit>=1.6.0 in /Users/mattiacinelli/repositories/AlgoRL/.valgorl/lib/python3.8/site-packages (from tensorboard<3,>=2.3.0->tensorflow==2.3.1) (1.8.1)\n",
      "Requirement already satisfied: tensorboard-data-server<0.7.0,>=0.6.0 in /Users/mattiacinelli/repositories/AlgoRL/.valgorl/lib/python3.8/site-packages (from tensorboard<3,>=2.3.0->tensorflow==2.3.1) (0.6.1)\n",
      "Requirement already satisfied: werkzeug>=0.11.15 in /Users/mattiacinelli/repositories/AlgoRL/.valgorl/lib/python3.8/site-packages (from tensorboard<3,>=2.3.0->tensorflow==2.3.1) (2.0.3)\n",
      "Requirement already satisfied: google-auth-oauthlib<0.5,>=0.4.1 in /Users/mattiacinelli/repositories/AlgoRL/.valgorl/lib/python3.8/site-packages (from tensorboard<3,>=2.3.0->tensorflow==2.3.1) (0.4.6)\n",
      "Requirement already satisfied: cachetools<6.0,>=2.0.0 in /Users/mattiacinelli/repositories/AlgoRL/.valgorl/lib/python3.8/site-packages (from google-auth<3,>=1.6.3->tensorboard<3,>=2.3.0->tensorflow==2.3.1) (5.0.0)\n",
      "Requirement already satisfied: pyasn1-modules>=0.2.1 in /Users/mattiacinelli/repositories/AlgoRL/.valgorl/lib/python3.8/site-packages (from google-auth<3,>=1.6.3->tensorboard<3,>=2.3.0->tensorflow==2.3.1) (0.2.8)\n",
      "Requirement already satisfied: rsa<5,>=3.1.4 in /Users/mattiacinelli/repositories/AlgoRL/.valgorl/lib/python3.8/site-packages (from google-auth<3,>=1.6.3->tensorboard<3,>=2.3.0->tensorflow==2.3.1) (4.8)\n",
      "Requirement already satisfied: requests-oauthlib>=0.7.0 in /Users/mattiacinelli/repositories/AlgoRL/.valgorl/lib/python3.8/site-packages (from google-auth-oauthlib<0.5,>=0.4.1->tensorboard<3,>=2.3.0->tensorflow==2.3.1) (1.3.1)\n",
      "Requirement already satisfied: importlib-metadata>=4.4 in /Users/mattiacinelli/repositories/AlgoRL/.valgorl/lib/python3.8/site-packages (from markdown>=2.6.8->tensorboard<3,>=2.3.0->tensorflow==2.3.1) (4.11.2)\n",
      "Requirement already satisfied: charset-normalizer~=2.0.0 in /Users/mattiacinelli/repositories/AlgoRL/.valgorl/lib/python3.8/site-packages (from requests<3,>=2.21.0->tensorboard<3,>=2.3.0->tensorflow==2.3.1) (2.0.12)\n",
      "Requirement already satisfied: certifi>=2017.4.17 in /Users/mattiacinelli/repositories/AlgoRL/.valgorl/lib/python3.8/site-packages (from requests<3,>=2.21.0->tensorboard<3,>=2.3.0->tensorflow==2.3.1) (2021.10.8)\n",
      "Requirement already satisfied: idna<4,>=2.5 in /Users/mattiacinelli/repositories/AlgoRL/.valgorl/lib/python3.8/site-packages (from requests<3,>=2.21.0->tensorboard<3,>=2.3.0->tensorflow==2.3.1) (3.3)\n",
      "Requirement already satisfied: urllib3<1.27,>=1.21.1 in /Users/mattiacinelli/repositories/AlgoRL/.valgorl/lib/python3.8/site-packages (from requests<3,>=2.21.0->tensorboard<3,>=2.3.0->tensorflow==2.3.1) (1.26.8)\n",
      "Requirement already satisfied: zipp>=0.5 in /Users/mattiacinelli/repositories/AlgoRL/.valgorl/lib/python3.8/site-packages (from importlib-metadata>=4.4->markdown>=2.6.8->tensorboard<3,>=2.3.0->tensorflow==2.3.1) (3.7.0)\n",
      "Requirement already satisfied: pyasn1<0.5.0,>=0.4.6 in /Users/mattiacinelli/repositories/AlgoRL/.valgorl/lib/python3.8/site-packages (from pyasn1-modules>=0.2.1->google-auth<3,>=1.6.3->tensorboard<3,>=2.3.0->tensorflow==2.3.1) (0.4.8)\n",
      "Requirement already satisfied: oauthlib>=3.0.0 in /Users/mattiacinelli/repositories/AlgoRL/.valgorl/lib/python3.8/site-packages (from requests-oauthlib>=0.7.0->google-auth-oauthlib<0.5,>=0.4.1->tensorboard<3,>=2.3.0->tensorflow==2.3.1) (3.2.0)\n"
     ]
    }
   ],
   "source": [
    "!pip install tensorflow==2.3.1 \n",
    "# gym keras-rl2 gym[atari]"
   ]
  },
  {
   "cell_type": "code",
   "execution_count": 2,
   "metadata": {
    "slideshow": {
     "slide_type": "-"
    }
   },
   "outputs": [],
   "source": [
    "import gym\n",
    "import random \n",
    "from pathlib import Path\n",
    "\n",
    "# # Local imports\n",
    "from utils import eval_env_random_actions"
   ]
  },
  {
   "cell_type": "markdown",
   "metadata": {},
   "source": [
    "# 1. Set up"
   ]
  },
  {
   "cell_type": "code",
   "execution_count": 3,
   "metadata": {},
   "outputs": [
    {
     "name": "stdout",
     "output_type": "stream",
     "text": [
      "6\n",
      "Discrete(6)\n"
     ]
    }
   ],
   "source": [
    "# Create folder to save models\n",
    "directory_path = 'models'\n",
    "Path(directory_path).mkdir(parents=True, exist_ok=True)\n",
    "\n",
    "# Create environment\n",
    "env_name = 'SpaceInvaders-v0'\n",
    "env = gym.make(env_name)\n",
    "\n",
    "\n",
    "model_file_name = Path(directory_path, env_name + '_DL')\n",
    "print(env.action_space.n)\n",
    "print(env.action_space)\n",
    "# Discrete(6)\n",
    "# print(env.observation_space)\n",
    "# box\n",
    "\n",
    "height, width, channels = env.observation_space.shape\n",
    "actions = env.action_space.n"
   ]
  },
  {
   "cell_type": "code",
   "execution_count": 4,
   "metadata": {},
   "outputs": [
    {
     "data": {
      "text/plain": [
       "['NOOP', 'FIRE', 'RIGHT', 'LEFT', 'RIGHTFIRE', 'LEFTFIRE']"
      ]
     },
     "execution_count": 4,
     "metadata": {},
     "output_type": "execute_result"
    }
   ],
   "source": [
    "env.unwrapped.get_action_meanings()"
   ]
  },
  {
   "cell_type": "markdown",
   "metadata": {},
   "source": [
    "## Random"
   ]
  },
  {
   "cell_type": "code",
   "execution_count": 5,
   "metadata": {},
   "outputs": [
    {
     "name": "stderr",
     "output_type": "stream",
     "text": [
      "2022-03-26 12:34:33.931 Python[13037:3702464] ApplePersistenceIgnoreState: Existing state will not be touched. New state will be written to (null)\n"
     ]
    },
    {
     "name": "stdout",
     "output_type": "stream",
     "text": [
      "Episode: 1\n",
      "\tScore: 80.0\n",
      "Episode: 2\n",
      "\tScore: 155.0\n",
      "Episode: 3\n",
      "\tScore: 55.0\n",
      "Episode: 4\n",
      "\tScore: 265.0\n",
      "Episode: 5\n",
      "\tScore: 120.0\n",
      "Episode: 6\n",
      "\tScore: 410.0\n",
      "Episode: 7\n",
      "\tScore: 50.0\n",
      "Episode: 8\n",
      "\tScore: 125.0\n",
      "Episode: 9\n",
      "\tScore: 140.0\n",
      "\n",
      "\n",
      "\tMean reward: 155.55555555555554 Num episodes: 10\n"
     ]
    }
   ],
   "source": [
    "random_mean = eval_env_random_actions(env, render=True)"
   ]
  },
  {
   "cell_type": "markdown",
   "metadata": {},
   "source": [
    "# 2. Build a Deep Learning Model with Keras"
   ]
  },
  {
   "cell_type": "code",
   "execution_count": 8,
   "metadata": {},
   "outputs": [],
   "source": [
    "import numpy as np\n",
    "from tensorflow.keras.models import Sequential\n",
    "from tensorflow.keras.layers import Dense, Flatten, Convolution2D\n",
    "from tensorflow.keras.optimizers import Adam"
   ]
  },
  {
   "cell_type": "code",
   "execution_count": 9,
   "metadata": {},
   "outputs": [],
   "source": [
    "def build_model(height, width, channels, actions):\n",
    "    model = Sequential()\n",
    "    model.add(Convolution2D(32, (8,8), strides=(4,4), activation='relu', \n",
    "                            input_shape=(3, height, width, channels)))\n",
    "    model.add(Convolution2D(64, (4,4), strides=(2,2), activation='relu'))\n",
    "    model.add(Convolution2D(64, (3,3), activation='relu'))\n",
    "    model.add(Flatten())\n",
    "    model.add(Dense(512, activation='relu'))\n",
    "    model.add(Dense(256, activation='relu'))\n",
    "    model.add(Dense(actions, activation='linear'))\n",
    "    return model"
   ]
  },
  {
   "cell_type": "code",
   "execution_count": 10,
   "metadata": {},
   "outputs": [
    {
     "name": "stdout",
     "output_type": "stream",
     "text": [
      "Model: \"sequential\"\n",
      "_________________________________________________________________\n",
      "Layer (type)                 Output Shape              Param #   \n",
      "=================================================================\n",
      "conv2d (Conv2D)              (None, 3, 51, 39, 32)     6176      \n",
      "_________________________________________________________________\n",
      "conv2d_1 (Conv2D)            (None, 3, 24, 18, 64)     32832     \n",
      "_________________________________________________________________\n",
      "conv2d_2 (Conv2D)            (None, 3, 22, 16, 64)     36928     \n",
      "_________________________________________________________________\n",
      "flatten (Flatten)            (None, 67584)             0         \n",
      "_________________________________________________________________\n",
      "dense (Dense)                (None, 512)               34603520  \n",
      "_________________________________________________________________\n",
      "dense_1 (Dense)              (None, 256)               131328    \n",
      "_________________________________________________________________\n",
      "dense_2 (Dense)              (None, 6)                 1542      \n",
      "=================================================================\n",
      "Total params: 34,812,326\n",
      "Trainable params: 34,812,326\n",
      "Non-trainable params: 0\n",
      "_________________________________________________________________\n"
     ]
    }
   ],
   "source": [
    "model = build_model(height, width, channels, actions)\n",
    "model.summary()"
   ]
  },
  {
   "cell_type": "markdown",
   "metadata": {},
   "source": [
    "# 4 Build an agent"
   ]
  },
  {
   "cell_type": "code",
   "execution_count": 11,
   "metadata": {},
   "outputs": [],
   "source": [
    "from rl.agents import DQNAgent\n",
    "from rl.memory import SequentialMemory\n",
    "from rl.policy import LinearAnnealedPolicy, EpsGreedyQPolicy"
   ]
  },
  {
   "cell_type": "code",
   "execution_count": 12,
   "metadata": {},
   "outputs": [],
   "source": [
    "def build_agent(model, actions):\n",
    "    policy = LinearAnnealedPolicy(\n",
    "        EpsGreedyQPolicy(), \n",
    "        attr='eps', value_max=1., value_min=.1, \n",
    "        value_test=.2, nb_steps=10_000)\n",
    "    \n",
    "    memory = SequentialMemory(limit=1_000, window_length=3)\n",
    "    \n",
    "    dqn = DQNAgent(\n",
    "        model=model, \n",
    "        memory=memory, \n",
    "        policy=policy,\n",
    "        enable_dueling_network=True, \n",
    "        dueling_type='avg', \n",
    "        nb_actions=actions, \n",
    "        nb_steps_warmup=1_000\n",
    "    )\n",
    "    return dqn\n",
    "\n",
    "dqn = build_agent(model, actions)"
   ]
  },
  {
   "cell_type": "code",
   "execution_count": 13,
   "metadata": {},
   "outputs": [
    {
     "name": "stderr",
     "output_type": "stream",
     "text": [
      "2022-03-26 12:38:48.216096: I tensorflow/core/platform/cpu_feature_guard.cc:142] This TensorFlow binary is optimized with oneAPI Deep Neural Network Library (oneDNN)to use the following CPU instructions in performance-critical operations:  AVX2 FMA\n",
      "To enable them in other operations, rebuild TensorFlow with the appropriate compiler flags.\n",
      "2022-03-26 12:38:48.296372: I tensorflow/compiler/xla/service/service.cc:168] XLA service 0x7fd70f5f7570 initialized for platform Host (this does not guarantee that XLA will be used). Devices:\n",
      "2022-03-26 12:38:48.296396: I tensorflow/compiler/xla/service/service.cc:176]   StreamExecutor device (0): Host, Default Version\n"
     ]
    }
   ],
   "source": [
    "dqn.compile(Adam(lr=1e-4))"
   ]
  },
  {
   "cell_type": "markdown",
   "metadata": {},
   "source": [
    "## 4 Train the agent"
   ]
  },
  {
   "cell_type": "code",
   "execution_count": 29,
   "metadata": {},
   "outputs": [
    {
     "name": "stdout",
     "output_type": "stream",
     "text": [
      "Training for 10000 steps ...\n",
      "WARNING:tensorflow:From /Users/mattiacinelli/repositories/AlgoRL/.valgorl/lib/python3.8/site-packages/tensorflow/python/keras/engine/training_v1.py:2070: Model.state_updates (from tensorflow.python.keras.engine.training) is deprecated and will be removed in a future version.\n",
      "Instructions for updating:\n",
      "This property should not be used in TensorFlow 2.0, as updates are applied automatically.\n",
      "  593/10000: episode: 1, duration: 18.915s, episode steps: 593, steps per second:  31, episode reward: 45.000, mean reward:  0.076 [ 0.000, 15.000], mean action: 2.516 [0.000, 5.000],  loss: --, mean_q: --, mean_eps: --\n",
      " 1395/10000: episode: 2, duration: 995.013s, episode steps: 802, steps per second:   1, episode reward: 185.000, mean reward:  0.231 [ 0.000, 30.000], mean action: 2.635 [0.000, 5.000],  loss: 10.350943, mean_q: -0.115048, mean_eps: 0.892225\n",
      " 2040/10000: episode: 3, duration: 1044.005s, episode steps: 645, steps per second:   1, episode reward: 80.000, mean reward:  0.124 [ 0.000, 20.000], mean action: 2.374 [0.000, 5.000],  loss: 1.021924, mean_q: 0.388921, mean_eps: 0.845470\n",
      " 2445/10000: episode: 4, duration: 619.841s, episode steps: 405, steps per second:   1, episode reward: 105.000, mean reward:  0.259 [ 0.000, 30.000], mean action: 2.464 [0.000, 5.000],  loss: 0.701247, mean_q: 0.448624, mean_eps: 0.798220\n",
      " 3245/10000: episode: 5, duration: 1222.703s, episode steps: 800, steps per second:   1, episode reward: 155.000, mean reward:  0.194 [ 0.000, 30.000], mean action: 2.562 [0.000, 5.000],  loss: 0.695405, mean_q: 0.700708, mean_eps: 0.743995\n",
      " 4426/10000: episode: 6, duration: 1799.736s, episode steps: 1181, steps per second:   1, episode reward: 335.000, mean reward:  0.284 [ 0.000, 30.000], mean action: 2.351 [0.000, 5.000],  loss: 0.598115, mean_q: 0.443702, mean_eps: 0.654850\n",
      " 4920/10000: episode: 7, duration: 751.819s, episode steps: 494, steps per second:   1, episode reward: 110.000, mean reward:  0.223 [ 0.000, 30.000], mean action: 2.374 [0.000, 5.000],  loss: 0.306940, mean_q: 0.889790, mean_eps: 0.579475\n",
      " 5773/10000: episode: 8, duration: 1435.596s, episode steps: 853, steps per second:   1, episode reward: 125.000, mean reward:  0.147 [ 0.000, 20.000], mean action: 2.475 [0.000, 5.000],  loss: 0.303508, mean_q: 0.378282, mean_eps: 0.518860\n",
      " 6730/10000: episode: 9, duration: 1660.170s, episode steps: 957, steps per second:   1, episode reward: 285.000, mean reward:  0.298 [ 0.000, 30.000], mean action: 2.421 [0.000, 5.000],  loss: 0.435348, mean_q: -0.183630, mean_eps: 0.437410\n",
      " 7221/10000: episode: 10, duration: 752.221s, episode steps: 491, steps per second:   1, episode reward: 135.000, mean reward:  0.275 [ 0.000, 30.000], mean action: 2.422 [0.000, 5.000],  loss: 0.219060, mean_q: -0.604749, mean_eps: 0.372250\n",
      " 7832/10000: episode: 11, duration: 933.541s, episode steps: 611, steps per second:   1, episode reward: 125.000, mean reward:  0.205 [ 0.000, 30.000], mean action: 2.444 [0.000, 5.000],  loss: 0.349620, mean_q: -0.262042, mean_eps: 0.322660\n",
      " 8663/10000: episode: 12, duration: 1264.969s, episode steps: 831, steps per second:   1, episode reward: 210.000, mean reward:  0.253 [ 0.000, 30.000], mean action: 2.112 [0.000, 5.000],  loss: 0.230544, mean_q: -0.798492, mean_eps: 0.257770\n",
      " 9567/10000: episode: 13, duration: 1380.095s, episode steps: 904, steps per second:   1, episode reward: 240.000, mean reward:  0.265 [ 0.000, 30.000], mean action: 2.021 [0.000, 5.000],  loss: 0.325964, mean_q: -0.238087, mean_eps: 0.179695\n",
      " 9966/10000: episode: 14, duration: 612.063s, episode steps: 399, steps per second:   1, episode reward: 45.000, mean reward:  0.113 [ 0.000, 25.000], mean action: 1.910 [0.000, 5.000],  loss: 0.156771, mean_q: 0.340507, mean_eps: 0.121060\n",
      "done, took 14542.566 seconds\n"
     ]
    },
    {
     "data": {
      "text/plain": [
       "<tensorflow.python.keras.callbacks.History at 0x7ff123a960d0>"
      ]
     },
     "execution_count": 29,
     "metadata": {},
     "output_type": "execute_result"
    }
   ],
   "source": [
    "dqn.fit(env, nb_steps=10_000, visualize=False, verbose=2) #10_000_000 "
   ]
  },
  {
   "cell_type": "markdown",
   "metadata": {},
   "source": [
    "# 4. Evaluate"
   ]
  },
  {
   "cell_type": "code",
   "execution_count": 30,
   "metadata": {},
   "outputs": [
    {
     "name": "stdout",
     "output_type": "stream",
     "text": [
      "Testing for 10 episodes ...\n"
     ]
    },
    {
     "name": "stderr",
     "output_type": "stream",
     "text": [
      "2022-03-25 09:58:50.150 Python[8188:3529268] ApplePersistenceIgnoreState: Existing state will not be touched. New state will be written to (null)\n"
     ]
    },
    {
     "name": "stdout",
     "output_type": "stream",
     "text": [
      "Episode 1: reward: 20.000, steps: 445\n",
      "Episode 2: reward: 135.000, steps: 671\n",
      "Episode 3: reward: 270.000, steps: 1114\n",
      "Episode 4: reward: 195.000, steps: 941\n",
      "Episode 5: reward: 100.000, steps: 758\n",
      "Episode 6: reward: 160.000, steps: 986\n",
      "Episode 7: reward: 230.000, steps: 1074\n",
      "Episode 8: reward: 145.000, steps: 940\n",
      "Episode 9: reward: 165.000, steps: 698\n",
      "Episode 10: reward: 20.000, steps: 563\n",
      "mean_reward:144.00\n"
     ]
    }
   ],
   "source": [
    "scores = dqn.test(env, nb_episodes=10, visualize=False)\n",
    "mean_reward = np.mean(scores.history['episode_reward'])\n",
    "print(f\"mean_reward:{mean_reward:.2f}\")"
   ]
  },
  {
   "cell_type": "code",
   "execution_count": 31,
   "metadata": {},
   "outputs": [
    {
     "name": "stdout",
     "output_type": "stream",
     "text": [
      "Improvement respect random actions: 31.57%\n"
     ]
    }
   ],
   "source": [
    "print(f\"Improvement respect random actions: {mean_reward*100/random_mean-100:.2f}%\")"
   ]
  },
  {
   "cell_type": "code",
   "execution_count": 36,
   "metadata": {},
   "outputs": [],
   "source": [
    "dqn.save_weights(Path(directory_path, env_name + '_DL_h5f') )\n"
   ]
  },
  {
   "cell_type": "code",
   "execution_count": 48,
   "metadata": {},
   "outputs": [],
   "source": [
    "del model, dqn"
   ]
  },
  {
   "cell_type": "code",
   "execution_count": 14,
   "metadata": {},
   "outputs": [],
   "source": [
    "model = build_model(height, width, channels, actions)\n",
    "dqn = build_agent(model, actions)\n",
    "dqn.compile(Adam(lr=1e-4))\n",
    "dqn.load_weights(Path(directory_path, env_name + '_DL_h5f'))"
   ]
  },
  {
   "cell_type": "code",
   "execution_count": null,
   "metadata": {},
   "outputs": [
    {
     "name": "stdout",
     "output_type": "stream",
     "text": [
      "Testing for 10 episodes ...\n",
      "WARNING:tensorflow:From /Users/mattiacinelli/repositories/AlgoRL/.valgorl/lib/python3.8/site-packages/tensorflow/python/keras/engine/training_v1.py:2070: Model.state_updates (from tensorflow.python.keras.engine.training) is deprecated and will be removed in a future version.\n",
      "Instructions for updating:\n",
      "This property should not be used in TensorFlow 2.0, as updates are applied automatically.\n",
      "Episode 1: reward: 40.000, steps: 551\n"
     ]
    }
   ],
   "source": [
    "scores = dqn.test(env, nb_episodes=10, visualize=True)\n",
    "mean_reward = np.mean(scores.history['episode_reward'])\n",
    "print(f\"mean_reward:{mean_reward:.2f}\")\n"
   ]
  },
  {
   "cell_type": "code",
   "execution_count": null,
   "metadata": {},
   "outputs": [],
   "source": []
  }
 ],
 "metadata": {
  "interpreter": {
   "hash": "746acceb1a9bb722f8c89077fb130031d34e7e947823ee612a53301c7ebb3ca8"
  },
  "kernelspec": {
   "display_name": ".valgorl_nb",
   "language": "python",
   "name": ".valgorl"
  },
  "language_info": {
   "codemirror_mode": {
    "name": "ipython",
    "version": 3
   },
   "file_extension": ".py",
   "mimetype": "text/x-python",
   "name": "python",
   "nbconvert_exporter": "python",
   "pygments_lexer": "ipython3",
   "version": "3.8.2"
  }
 },
 "nbformat": 4,
 "nbformat_minor": 2
}
