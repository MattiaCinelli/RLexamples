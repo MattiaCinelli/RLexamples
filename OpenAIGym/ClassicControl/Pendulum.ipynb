{
 "cells": [
  {
   "cell_type": "code",
   "execution_count": 1,
   "id": "5f4b66f2",
   "metadata": {},
   "outputs": [],
   "source": [
    "import gym\n",
    "import numpy as np\n",
    "from pathlib import Path\n",
    "\n",
    "# !pip install Box2D\n",
    "from stable_baselines3 import SAC\n",
    "from stable_baselines3.common.evaluation import evaluate_policy\n",
    "from stable_baselines3.common.vec_env import DummyVecEnv\n",
    "from stable_baselines3.common.monitor import Monitor "
   ]
  },
  {
   "cell_type": "markdown",
   "id": "b5060453",
   "metadata": {},
   "source": [
    "# Set up"
   ]
  },
  {
   "cell_type": "code",
   "execution_count": 2,
   "id": "8e69fd4e",
   "metadata": {},
   "outputs": [
    {
     "name": "stdout",
     "output_type": "stream",
     "text": [
      "Box([-2.], [2.], (1,), float32)\n",
      "Box([-1. -1. -8.], [1. 1. 8.], (3,), float32)\n"
     ]
    }
   ],
   "source": [
    "# Create folder to save models\n",
    "directory_path = 'models'\n",
    "Path(directory_path).mkdir(parents=True, exist_ok=True)\n",
    "\n",
    "# Create environment\n",
    "env_name = 'Pendulum-v0'\n",
    "env = gym.make(env_name)\n",
    "\n",
    "num_steps = 5_000#_000\n",
    "model_file_name = Path(directory_path, f'{env_name}_{num_steps}')\n",
    "print(env.action_space)\n",
    "print(env.observation_space)"
   ]
  },
  {
   "cell_type": "markdown",
   "id": "3ffc2e57",
   "metadata": {},
   "source": [
    "## Simulate with random actions"
   ]
  },
  {
   "cell_type": "code",
   "execution_count": 3,
   "id": "4f010369",
   "metadata": {},
   "outputs": [
    {
     "name": "stdout",
     "output_type": "stream",
     "text": [
      "Mean reward:-1162.129798711533 Num episodes:10\n"
     ]
    }
   ],
   "source": [
    "def simulate_random_actions(render=False):\n",
    "    episodes = 10\n",
    "    all_rewards = []\n",
    "    for _ in range(1, episodes):\n",
    "        _ = env.reset() # Restart the agent at the beginning\n",
    "        done = False # If the agent has completed the level\n",
    "        score = 0 # Called score not return cause it's python\n",
    "        while not done:\n",
    "            if render:\n",
    "                env.render()\n",
    "            random_action = env.action_space.sample() # Do random actions\n",
    "            _, reward, done, _ = env.step(random_action) \n",
    "            score += reward\n",
    "        all_rewards.append(score)\n",
    "    env.reset()   \n",
    "    env.close()\n",
    "    print(f\"Mean reward:{np.mean(all_rewards)} Num episodes:{episodes}\")\n",
    "simulate_random_actions()"
   ]
  },
  {
   "cell_type": "markdown",
   "id": "006c0267",
   "metadata": {},
   "source": [
    "# Build and Train a model"
   ]
  },
  {
   "cell_type": "code",
   "execution_count": 4,
   "id": "4576d1df",
   "metadata": {},
   "outputs": [],
   "source": [
    "# Instantiate the agent\n",
    "env = gym.make(env_name)\n",
    "env = DummyVecEnv([lambda: env])\n",
    "model = SAC('MlpPolicy', env, train_freq=1, gradient_steps=2, verbose=0)"
   ]
  },
  {
   "cell_type": "code",
   "execution_count": 5,
   "id": "11c5772e",
   "metadata": {},
   "outputs": [
    {
     "data": {
      "text/plain": [
       "<stable_baselines3.sac.sac.SAC at 0x7fa45182b4c0>"
      ]
     },
     "execution_count": 5,
     "metadata": {},
     "output_type": "execute_result"
    }
   ],
   "source": [
    "# Train the agent\n",
    "model.learn(total_timesteps = num_steps)"
   ]
  },
  {
   "cell_type": "markdown",
   "id": "069339e9",
   "metadata": {},
   "source": [
    "# Save and reload"
   ]
  },
  {
   "cell_type": "code",
   "execution_count": 6,
   "id": "ad4d4a9d",
   "metadata": {},
   "outputs": [],
   "source": [
    "# Save the agent\n",
    "model.save(model_file_name)"
   ]
  },
  {
   "cell_type": "markdown",
   "id": "d87af6f3",
   "metadata": {},
   "source": [
    "## Load the trained agent"
   ]
  },
  {
   "cell_type": "code",
   "execution_count": 7,
   "id": "51668cc2",
   "metadata": {},
   "outputs": [],
   "source": [
    "# del model\n",
    "# model = SAC.load(model_file_name, env=env)"
   ]
  },
  {
   "cell_type": "markdown",
   "id": "3d6e2244",
   "metadata": {},
   "source": [
    "# Evaluate"
   ]
  },
  {
   "cell_type": "code",
   "execution_count": 8,
   "id": "fc1357e2",
   "metadata": {},
   "outputs": [
    {
     "name": "stderr",
     "output_type": "stream",
     "text": [
      "/Users/mattiacinelli/repositories/AlgoRL/.valgorl/lib/python3.8/site-packages/stable_baselines3/common/evaluation.py:65: UserWarning: Evaluation environment is not wrapped with a ``Monitor`` wrapper. This may result in reporting modified episode lengths and rewards, if other wrappers happen to modify these. Consider wrapping environment first with ``Monitor`` wrapper.\n",
      "  warnings.warn(\n"
     ]
    },
    {
     "name": "stdout",
     "output_type": "stream",
     "text": [
      "mean_reward:-169.69 +/- 97.87\n"
     ]
    }
   ],
   "source": [
    "# Evaluate the agent\n",
    "mean_reward, std_reward = evaluate_policy(model,  env , n_eval_episodes=10)\n",
    "print(f\"mean_reward:{mean_reward:.2f} +/- {std_reward:.2f}\")"
   ]
  },
  {
   "cell_type": "code",
   "execution_count": 9,
   "id": "9aa7f545",
   "metadata": {},
   "outputs": [
    {
     "name": "stderr",
     "output_type": "stream",
     "text": [
      "2022-05-11 15:11:11.305 Python[28006:905107] ApplePersistenceIgnoreState: Existing state will not be touched. New state will be written to (null)\n"
     ]
    }
   ],
   "source": [
    "obs = env.reset()\n",
    "done = False\n",
    "while not done:\n",
    "    env.render()\n",
    "    action, _states = model.predict(obs, deterministic=True)\n",
    "    obs, rewards, done, info = env.step(action)\n",
    "env.reset()   \n",
    "env.close()"
   ]
  },
  {
   "cell_type": "markdown",
   "id": "958af649",
   "metadata": {},
   "source": [
    "## "
   ]
  }
 ],
 "metadata": {
  "kernelspec": {
   "display_name": ".valgorl_nb",
   "language": "python",
   "name": ".valgorl"
  },
  "language_info": {
   "codemirror_mode": {
    "name": "ipython",
    "version": 3
   },
   "file_extension": ".py",
   "mimetype": "text/x-python",
   "name": "python",
   "nbconvert_exporter": "python",
   "pygments_lexer": "ipython3",
   "version": "3.8.2"
  }
 },
 "nbformat": 4,
 "nbformat_minor": 5
}
