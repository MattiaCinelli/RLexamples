{
 "cells": [
  {
   "cell_type": "code",
   "execution_count": 1,
   "id": "5f4b66f2",
   "metadata": {},
   "outputs": [],
   "source": [
    "import gym\n",
    "import numpy as np\n",
    "from pathlib import Path\n",
    "\n",
    "# !pip install Box2D\n",
    "from stable_baselines3 import DQN, PPO\n",
    "from stable_baselines3.common.evaluation import evaluate_policy\n",
    "from stable_baselines3.common.vec_env import DummyVecEnv\n",
    "from stable_baselines3.common.monitor import Monitor \n",
    "\n",
    "# https://www.gymlibrary.ml/environments/box2d/lunar_lander/"
   ]
  },
  {
   "cell_type": "markdown",
   "id": "b5060453",
   "metadata": {},
   "source": [
    "# Set up"
   ]
  },
  {
   "cell_type": "code",
   "execution_count": 2,
   "id": "8e69fd4e",
   "metadata": {},
   "outputs": [
    {
     "name": "stdout",
     "output_type": "stream",
     "text": [
      "Discrete(4)\n",
      "Box([-inf -inf -inf -inf -inf -inf -inf -inf], [inf inf inf inf inf inf inf inf], (8,), float32)\n"
     ]
    }
   ],
   "source": [
    "# Create folder to save models\n",
    "directory_path = 'models'\n",
    "Path(directory_path).mkdir(parents=True, exist_ok=True)\n",
    "\n",
    "# Create environment\n",
    "env_name = 'LunarLander-v2'\n",
    "env = gym.make(env_name)\n",
    "\n",
    "num_steps = 5_000_000\n",
    "model_file_name = Path(directory_path, env_name + '_' + str(num_steps))\n",
    "print(env.action_space)\n",
    "# 0- Do nothing\n",
    "# 1- Fire left engine\n",
    "# 2- Fire down engine\n",
    "# 3- Fire right engine\n",
    "print(env.observation_space)"
   ]
  },
  {
   "cell_type": "markdown",
   "id": "3ffc2e57",
   "metadata": {},
   "source": [
    "## Simulate with random actions"
   ]
  },
  {
   "cell_type": "code",
   "execution_count": 3,
   "id": "4f010369",
   "metadata": {},
   "outputs": [],
   "source": [
    "def simulate_random_actions():\n",
    "    episodes = 10\n",
    "    all_rewards = []\n",
    "    for episode in range(1, episodes):\n",
    "        state = env.reset() # Restart the agent at the beginning\n",
    "        done = False # If the agent has completed the level\n",
    "        score = 0 # Called score not return cause it's python\n",
    "        while not done:\n",
    "            env.render()\n",
    "            random_action = env.action_space.sample() # Do random actions\n",
    "            state, reward, done, info = env.step(random_action) \n",
    "            score += reward\n",
    "        all_rewards.append(score)\n",
    "    env.reset()   \n",
    "    env.close()\n",
    "    print(f\"Mean reward:{np.mean(all_rewards)} Num episodes:{episodes}\")"
   ]
  },
  {
   "cell_type": "markdown",
   "id": "006c0267",
   "metadata": {},
   "source": [
    "# Build and Train a model"
   ]
  },
  {
   "cell_type": "code",
   "execution_count": 4,
   "id": "4576d1df",
   "metadata": {},
   "outputs": [],
   "source": [
    "# Instantiate the agent\n",
    "env = gym.make(env_name)\n",
    "env = DummyVecEnv([lambda: env])\n",
    "model = PPO(\n",
    "    policy = 'MlpPolicy',\n",
    "    env = env,\n",
    "    n_steps = 1024,\n",
    "    batch_size = 64,\n",
    "    n_epochs = 4,\n",
    "    gamma = 0.999,\n",
    "    gae_lambda = 0.98,\n",
    "    ent_coef = 0.01,\n",
    "    verbose = 0)"
   ]
  },
  {
   "cell_type": "code",
   "execution_count": 5,
   "id": "11c5772e",
   "metadata": {},
   "outputs": [
    {
     "data": {
      "text/plain": [
       "<stable_baselines3.ppo.ppo.PPO at 0x7faaa2afff70>"
      ]
     },
     "execution_count": 5,
     "metadata": {},
     "output_type": "execute_result"
    }
   ],
   "source": [
    "# Train the agent\n",
    "model.learn(total_timesteps = num_steps)"
   ]
  },
  {
   "cell_type": "code",
   "execution_count": 6,
   "id": "f77601b5",
   "metadata": {},
   "outputs": [
    {
     "data": {
      "text/plain": [
       "'models'"
      ]
     },
     "execution_count": 6,
     "metadata": {},
     "output_type": "execute_result"
    }
   ],
   "source": [
    "directory_path"
   ]
  },
  {
   "cell_type": "markdown",
   "id": "069339e9",
   "metadata": {},
   "source": [
    "# Save and reload"
   ]
  },
  {
   "cell_type": "code",
   "execution_count": 7,
   "id": "ad4d4a9d",
   "metadata": {},
   "outputs": [],
   "source": [
    "# Save the agent\n",
    "model.save(model_file_name)"
   ]
  },
  {
   "cell_type": "markdown",
   "id": "d87af6f3",
   "metadata": {},
   "source": [
    "## Load the trained agent"
   ]
  },
  {
   "cell_type": "code",
   "execution_count": 8,
   "id": "51668cc2",
   "metadata": {},
   "outputs": [],
   "source": [
    "# del model  # delete trained model to demonstrate loading\n",
    "# # Load the trained agent\n",
    "# # model = DQN.load(\"dqn_lunar\", env=env, print_system_info=True)\n",
    "# model = PPO.load(model_file_name, env=env)"
   ]
  },
  {
   "cell_type": "markdown",
   "id": "3d6e2244",
   "metadata": {},
   "source": [
    "# Evaluate"
   ]
  },
  {
   "cell_type": "code",
   "execution_count": 9,
   "id": "fc1357e2",
   "metadata": {},
   "outputs": [
    {
     "name": "stderr",
     "output_type": "stream",
     "text": [
      "/Users/mattiacinelli/repositories/AlgoRL/.valgorl/lib/python3.8/site-packages/stable_baselines3/common/evaluation.py:65: UserWarning: Evaluation environment is not wrapped with a ``Monitor`` wrapper. This may result in reporting modified episode lengths and rewards, if other wrappers happen to modify these. Consider wrapping environment first with ``Monitor`` wrapper.\n",
      "  warnings.warn(\n"
     ]
    },
    {
     "name": "stdout",
     "output_type": "stream",
     "text": [
      "mean_reward:208.31 +/- 135.65\n"
     ]
    }
   ],
   "source": [
    "# Evaluate the agent\n",
    "mean_reward, std_reward = evaluate_policy(model,  env , n_eval_episodes=10)\n",
    "print(f\"mean_reward:{mean_reward:.2f} +/- {std_reward:.2f}\")"
   ]
  },
  {
   "cell_type": "code",
   "execution_count": 10,
   "id": "9aa7f545",
   "metadata": {},
   "outputs": [
    {
     "name": "stderr",
     "output_type": "stream",
     "text": [
      "2022-05-11 11:13:28.887 Python[24072:742418] ApplePersistenceIgnoreState: Existing state will not be touched. New state will be written to (null)\n"
     ]
    }
   ],
   "source": [
    "# Enjoy trained agent\n",
    "env = gym.make(env_name)\n",
    "obs = env.reset()\n",
    "for _ in range(500):\n",
    "    env.render()\n",
    "    action, _states = model.predict(obs, deterministic=True)\n",
    "    obs, rewards, dones, info = env.step(action)\n",
    "env.reset()   \n",
    "env.close()"
   ]
  },
  {
   "cell_type": "code",
   "execution_count": null,
   "id": "3e23f3ff",
   "metadata": {},
   "outputs": [],
   "source": []
  },
  {
   "cell_type": "markdown",
   "id": "958af649",
   "metadata": {},
   "source": [
    "## "
   ]
  }
 ],
 "metadata": {
  "kernelspec": {
   "display_name": ".valgorl_nb",
   "language": "python",
   "name": ".valgorl"
  },
  "language_info": {
   "codemirror_mode": {
    "name": "ipython",
    "version": 3
   },
   "file_extension": ".py",
   "mimetype": "text/x-python",
   "name": "python",
   "nbconvert_exporter": "python",
   "pygments_lexer": "ipython3",
   "version": "3.8.2"
  }
 },
 "nbformat": 4,
 "nbformat_minor": 5
}
